{
  "nbformat": 4,
  "nbformat_minor": 0,
  "metadata": {
    "kernelspec": {
      "display_name": "Python 3",
      "language": "python",
      "name": "python3"
    },
    "language_info": {
      "codemirror_mode": {
        "name": "ipython",
        "version": 3
      },
      "file_extension": ".py",
      "mimetype": "text/x-python",
      "name": "python",
      "nbconvert_exporter": "python",
      "pygments_lexer": "ipython3",
      "version": "3.7.4"
    },
    "colab": {
      "name": "Numpy_Task3.ipynb",
      "provenance": [],
      "collapsed_sections": []
    }
  },
  "cells": [
    {
      "cell_type": "markdown",
      "metadata": {
        "id": "g_Q2i9d-zEjj"
      },
      "source": [
        "# Election Results\n",
        "\n",
        "You’re part of an impartial research group that conducts phone surveys prior to local elections. During this election season, the group conducted a survey to determine how many people would vote for I_Khan vs. S_Sharif in the presidential election.\n",
        "\n",
        "Now that the election has occurred, your group wants to compare the survey responses to the actual results.\n",
        "\n",
        "Was your survey a good indicator? Let’s find out!"
      ]
    },
    {
      "cell_type": "markdown",
      "metadata": {
        "id": "NopmgQHYzEjr"
      },
      "source": [
        "# PROJECT STEPS"
      ]
    },
    {
      "cell_type": "markdown",
      "metadata": {
        "id": "S4rYbZBLzEjt"
      },
      "source": [
        "1.First, import numpy and matplotlib."
      ]
    },
    {
      "cell_type": "code",
      "metadata": {
        "id": "rtE556sHzEju"
      },
      "source": [
        "#type your code here\n",
        "import numpy as np\n",
        "import matplotlib.pyplot as plt\n",
        "%matplotlib inline"
      ],
      "execution_count": null,
      "outputs": []
    },
    {
      "cell_type": "markdown",
      "metadata": {
        "id": "nDc31vxizEju"
      },
      "source": [
        "2.There is a list given of the different survey responses.\n",
        "\n",
        "Calculate the number of people who answered ‘I_Khan’ and save the answer to the variable total_Khan.\n",
        "\n",
        "Print the variable to the terminal to see its value."
      ]
    },
    {
      "cell_type": "code",
      "metadata": {
        "id": "Bm3_wbiNzEjv"
      },
      "source": [
        "survey_responses = ['I_Khan', 'S_Sharif', 'I_Khan', 'I_Khan', 'I_Khan','S_Sharif',\n",
        "                    'S_Sharif', 'I_Khan', 'I_Khan', 'I_Khan', 'S_Sharif', 'S_Sharif',\n",
        "                    'I_Khan', 'I_Khan', 'S_Sharif', 'S_Sharif','I_Khan', 'I_Khan', \n",
        "                    'S_Sharif', 'S_Sharif', 'S_Sharif', 'S_Sharif', 'S_Sharif', 'S_Sharif', \n",
        "                    'I_Khan', 'I_Khan', 'I_Khan', 'I_Khan', 'I_Khan', 'I_Khan',\n",
        "                    'S_Sharif', 'S_Sharif', 'I_Khan', 'I_Khan', 'I_Khan', 'S_Sharif',\n",
        "                    'S_Sharif', 'I_Khan', 'I_Khan', 'S_Sharif', 'S_Sharif', 'I_Khan', \n",
        "                    'I_Khan', 'S_Sharif', 'S_Sharif', 'S_Sharif', 'S_Sharif', 'S_Sharif',\n",
        "                    'S_Sharif', 'I_Khan','S_Sharif', 'S_Sharif', 'I_Khan', 'I_Khan', \n",
        "                    'I_Khan', 'S_Sharif', 'S_Sharif', 'I_Khan', 'I_Khan', 'S_Sharif', \n",
        "                    'S_Sharif', 'I_Khan', 'I_Khan', 'S_Sharif', 'S_Sharif', 'S_Sharif', \n",
        "                    'S_Sharif', 'S_Sharif', 'S_Sharif', 'I_Khan']\n",
        "\n",
        "#type your code here\n",
        "survey_responses = np.array(survey_responses)\n",
        "total_khan = len(survey_responses[survey_responses == \"I_Khan\"])"
      ],
      "execution_count": null,
      "outputs": []
    },
    {
      "cell_type": "code",
      "metadata": {
        "colab": {
          "base_uri": "https://localhost:8080/"
        },
        "id": "Nbe34bAA5ndx",
        "outputId": "74f6fcdc-639f-48eb-dbd8-2ed7c0eb1479"
      },
      "source": [
        "total_khan"
      ],
      "execution_count": null,
      "outputs": [
        {
          "output_type": "execute_result",
          "data": {
            "text/plain": [
              "33"
            ]
          },
          "metadata": {
            "tags": []
          },
          "execution_count": 3
        }
      ]
    },
    {
      "cell_type": "markdown",
      "metadata": {
        "id": "IGSwvMx4zEjv"
      },
      "source": [
        "3.Calculate the percentage of people in the survey who voted for I_Khan and save it to the variable percentage_I_Khan.\n",
        "\n",
        "Print the variable to the terminal to see its value."
      ]
    },
    {
      "cell_type": "code",
      "metadata": {
        "id": "SL2G8gLXzEjv"
      },
      "source": [
        "#type your code here\n",
        "percentage_I_Khan = total_khan / len(survey_responses)"
      ],
      "execution_count": null,
      "outputs": []
    },
    {
      "cell_type": "code",
      "metadata": {
        "colab": {
          "base_uri": "https://localhost:8080/"
        },
        "id": "6VFfnsDr57Vn",
        "outputId": "5aa6925c-3fea-4ba7-9369-5755097fcf79"
      },
      "source": [
        "percentage_I_Khan"
      ],
      "execution_count": null,
      "outputs": [
        {
          "output_type": "execute_result",
          "data": {
            "text/plain": [
              "0.4714285714285714"
            ]
          },
          "metadata": {
            "tags": []
          },
          "execution_count": 5
        }
      ]
    },
    {
      "cell_type": "markdown",
      "metadata": {
        "id": "ySKCx_9zzEjw"
      },
      "source": [
        "4.In the real election, 54% of the 10,000 town population voted for I_Khan. Your supervisors are concerned because this is a very different outcome than what the poll predicted. They want you to determine if there is something wrong with the poll or if given the sample size, it was an entirely reasonable result.\n",
        "\n",
        "Generate a binomial distribution that takes the number of total survey responses, the actual success rate, and the size of the town’s population as its parameters. Then divide the distribution by the number of survey responses. Save your calculation to the variable possible_surveys.\n",
        "\n",
        "######### hint###########\n",
        "possible_surveys = \n",
        "np.random.binomial(total of survey responses, the actual success rate,and the size of the town’s population ) "
      ]
    },
    {
      "cell_type": "code",
      "metadata": {
        "colab": {
          "base_uri": "https://localhost:8080/"
        },
        "id": "zL6xWts8_bMJ",
        "outputId": "0d829583-ad38-4ffd-f631-529a525507d9"
      },
      "source": [
        "len(survey_responses)"
      ],
      "execution_count": null,
      "outputs": [
        {
          "output_type": "execute_result",
          "data": {
            "text/plain": [
              "70"
            ]
          },
          "metadata": {
            "tags": []
          },
          "execution_count": 6
        }
      ]
    },
    {
      "cell_type": "code",
      "metadata": {
        "id": "N9vGN-XGzEjw"
      },
      "source": [
        "#type your code here\n",
        "possible_surveys = np.random.binomial(len(survey_responses),percentage_I_Khan,10000)"
      ],
      "execution_count": null,
      "outputs": []
    },
    {
      "cell_type": "code",
      "metadata": {
        "colab": {
          "base_uri": "https://localhost:8080/"
        },
        "id": "14bCAmmv_go7",
        "outputId": "58e0494a-d791-4b1f-cffb-6991d64fefb5"
      },
      "source": [
        "possible_surveys.shape"
      ],
      "execution_count": null,
      "outputs": [
        {
          "output_type": "execute_result",
          "data": {
            "text/plain": [
              "(10000,)"
            ]
          },
          "metadata": {
            "tags": []
          },
          "execution_count": 9
        }
      ]
    },
    {
      "cell_type": "code",
      "metadata": {
        "colab": {
          "base_uri": "https://localhost:8080/"
        },
        "id": "D2hguCut_fLE",
        "outputId": "6dcad91d-e14e-4a7f-96df-cab85c68a11b"
      },
      "source": [
        "possible_surveys"
      ],
      "execution_count": null,
      "outputs": [
        {
          "output_type": "execute_result",
          "data": {
            "text/plain": [
              "array([37, 36, 32, ..., 34, 33, 37])"
            ]
          },
          "metadata": {
            "tags": []
          },
          "execution_count": 8
        }
      ]
    },
    {
      "cell_type": "markdown",
      "metadata": {
        "id": "byUMDsxbzEjw"
      },
      "source": [
        "\n",
        "      #######Optional########\n",
        "5.By using matplotlib Plot a histogram of possible_surveys with a range of 0-1 and 20 bins.\n"
      ]
    },
    {
      "cell_type": "code",
      "metadata": {
        "colab": {
          "base_uri": "https://localhost:8080/",
          "height": 418
        },
        "id": "8C72HSBRzEjw",
        "outputId": "2ca1b5f3-cf35-40b3-c7c4-f738a659083d"
      },
      "source": [
        "plt.hist(possible_surveys,bins=50,range=(0,1))"
      ],
      "execution_count": null,
      "outputs": [
        {
          "output_type": "execute_result",
          "data": {
            "text/plain": [
              "(array([0., 0., 0., 0., 0., 0., 0., 0., 0., 0., 0., 0., 0., 0., 0., 0., 0.,\n",
              "        0., 0., 0., 0., 0., 0., 0., 0., 0., 0., 0., 0., 0., 0., 0., 0., 0.,\n",
              "        0., 0., 0., 0., 0., 0., 0., 0., 0., 0., 0., 0., 0., 0., 0., 0.]),\n",
              " array([0.  , 0.02, 0.04, 0.06, 0.08, 0.1 , 0.12, 0.14, 0.16, 0.18, 0.2 ,\n",
              "        0.22, 0.24, 0.26, 0.28, 0.3 , 0.32, 0.34, 0.36, 0.38, 0.4 , 0.42,\n",
              "        0.44, 0.46, 0.48, 0.5 , 0.52, 0.54, 0.56, 0.58, 0.6 , 0.62, 0.64,\n",
              "        0.66, 0.68, 0.7 , 0.72, 0.74, 0.76, 0.78, 0.8 , 0.82, 0.84, 0.86,\n",
              "        0.88, 0.9 , 0.92, 0.94, 0.96, 0.98, 1.  ]),\n",
              " <a list of 50 Patch objects>)"
            ]
          },
          "metadata": {
            "tags": []
          },
          "execution_count": 10
        },
        {
          "output_type": "display_data",
          "data": {
            "image/png": "[encoded data removed]",
            "text/plain": [
              "<Figure size 432x288 with 1 Axes>"
            ]
          },
          "metadata": {
            "tags": [],
            "needs_background": "light"
          }
        }
      ]
    },
    {
      "cell_type": "markdown",
      "metadata": {
        "id": "sYPFYov2zEjx"
      },
      "source": [
        "6.As we saw, 47% of people we surveyed said they would vote for I_Khan, but 54% of people voted for I_Khan in the actual election.\n",
        "\n",
        "Calculate the percentage of surveys that could have an outcome of I_Khan receiving less than 50% of the vote and save it to the variable I_Khan_loss_surveys.\n",
        "\n",
        "Print the variable to the terminal."
      ]
    },
    {
      "cell_type": "code",
      "metadata": {
        "id": "Jy-IVpkLzEjx"
      },
      "source": [
        "#type your code here\n",
        "I_Khan_loss_surveys = possible_surveys[possible_surveys < 50]"
      ],
      "execution_count": null,
      "outputs": []
    },
    {
      "cell_type": "code",
      "metadata": {
        "colab": {
          "base_uri": "https://localhost:8080/"
        },
        "id": "ee_J8LF-_2k1",
        "outputId": "73f4a84b-446a-4be7-b6a0-ab6592ac289f"
      },
      "source": [
        "I_Khan_loss_surveys / 50"
      ],
      "execution_count": null,
      "outputs": [
        {
          "output_type": "execute_result",
          "data": {
            "text/plain": [
              "array([0.74, 0.72, 0.64, ..., 0.68, 0.66, 0.74])"
            ]
          },
          "metadata": {
            "tags": []
          },
          "execution_count": 19
        }
      ]
    },
    {
      "cell_type": "markdown",
      "metadata": {
        "id": "-_czzouEzEjx"
      },
      "source": [
        "7.With this current poll, about 20% of the time a survey output would predict S_Sharif winning, even if I_Khan won the actual election.\n",
        "\n",
        "Your co-worker points out that your poll would be more accurate if it had more responders.\n",
        "\n",
        "Generate another binomial distribution, but this time, see what would happen if you had instead surveyed 7,000 people. Divide the distribution by the size of the survey and save your findings to large_survey.\n"
      ]
    },
    {
      "cell_type": "code",
      "metadata": {
        "id": "eDWMDImo_2Fz"
      },
      "source": [
        "#type your code here\r\n",
        "big_dist = np.random.binomial(7000,percentage_I_Khan,10000)"
      ],
      "execution_count": null,
      "outputs": []
    },
    {
      "cell_type": "code",
      "metadata": {
        "colab": {
          "base_uri": "https://localhost:8080/"
        },
        "id": "JcdB6OwlAIZ1",
        "outputId": "0a35cfd0-f3bb-4b01-f89f-44a202289590"
      },
      "source": [
        "big_dist"
      ],
      "execution_count": null,
      "outputs": [
        {
          "output_type": "execute_result",
          "data": {
            "text/plain": [
              "array([3353, 3319, 3282, ..., 3250, 3364, 3320])"
            ]
          },
          "metadata": {
            "tags": []
          },
          "execution_count": 15
        }
      ]
    },
    {
      "cell_type": "code",
      "metadata": {
        "id": "I6GVEtrzzEjx"
      },
      "source": [
        "#type your code here\n",
        "\n",
        "large_survey= big_dist / 7000"
      ],
      "execution_count": null,
      "outputs": []
    },
    {
      "cell_type": "code",
      "metadata": {
        "colab": {
          "base_uri": "https://localhost:8080/"
        },
        "id": "cflaVGHmBytl",
        "outputId": "3b87a18b-80ae-4440-c240-a1c74cc300d4"
      },
      "source": [
        "large_survey"
      ],
      "execution_count": null,
      "outputs": [
        {
          "output_type": "execute_result",
          "data": {
            "text/plain": [
              "array([0.479     , 0.47414286, 0.46885714, ..., 0.46428571, 0.48057143,\n",
              "       0.47428571])"
            ]
          },
          "metadata": {
            "tags": []
          },
          "execution_count": 21
        }
      ]
    },
    {
      "cell_type": "markdown",
      "metadata": {
        "id": "bjin0R7KzEjy"
      },
      "source": [
        "8.Now, recalculate the percentage of surveys that would have an outcome of I_Khan losing and save it to the variable I_Khan_loss_new, and print the value to the terminal.\n",
        "\n",
        "What do we notice about this new value?\n",
        "\n",
        "What advice would you give to your supervisors about predicting results from surveys?\n"
      ]
    },
    {
      "cell_type": "code",
      "metadata": {
        "id": "kr4lHy_jzEjy"
      },
      "source": [
        "#type your code here\n",
        "I_khan_loss_new = large_survey[large_survey < 50]\n"
      ],
      "execution_count": null,
      "outputs": []
    },
    {
      "cell_type": "code",
      "metadata": {
        "colab": {
          "base_uri": "https://localhost:8080/"
        },
        "id": "OlAmKwJJByK1",
        "outputId": "96dff74e-cf5c-4477-d896-1634c523faa6"
      },
      "source": [
        "\r\n",
        "I_khan_loss_new"
      ],
      "execution_count": null,
      "outputs": [
        {
          "output_type": "execute_result",
          "data": {
            "text/plain": [
              "array([0.479     , 0.47414286, 0.46885714, ..., 0.46428571, 0.48057143,\n",
              "       0.47428571])"
            ]
          },
          "metadata": {
            "tags": []
          },
          "execution_count": 23
        }
      ]
    },
    {
      "cell_type": "code",
      "metadata": {
        "id": "eYeMmkvbCJnU"
      },
      "source": [
        ""
      ],
      "execution_count": null,
      "outputs": []
    }
  ]
}