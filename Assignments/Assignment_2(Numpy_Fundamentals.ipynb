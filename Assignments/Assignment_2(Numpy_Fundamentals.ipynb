{
  "nbformat": 4,
  "nbformat_minor": 0,
  "metadata": {
    "colab": {
      "name": "Assignment#2(Numpy Fundamentals.ipynb",
      "provenance": []
    },
    "kernelspec": {
      "display_name": "Python 3",
      "language": "python",
      "name": "python3"
    },
    "language_info": {
      "codemirror_mode": {
        "name": "ipython",
        "version": 3
      },
      "file_extension": ".py",
      "mimetype": "text/x-python",
      "name": "python",
      "nbconvert_exporter": "python",
      "pygments_lexer": "ipython3",
      "version": "3.7.3"
    }
  },
  "cells": [
    {
      "cell_type": "code",
      "metadata": {
        "id": "knndovZjKBO-"
      },
      "source": [
        "import numpy as np"
      ],
      "execution_count": 1,
      "outputs": []
    },
    {
      "cell_type": "markdown",
      "metadata": {
        "id": "CL28s_vy_z5X"
      },
      "source": [
        "# Numpy_Assignment_2::"
      ]
    },
    {
      "cell_type": "markdown",
      "metadata": {
        "id": "2xSsJczz_z5h"
      },
      "source": [
        "## Question:1"
      ]
    },
    {
      "cell_type": "markdown",
      "metadata": {
        "id": "JfmO1b3c_z5i"
      },
      "source": [
        "### Convert a 1D array to a 2D array with 2 rows?"
      ]
    },
    {
      "cell_type": "markdown",
      "metadata": {
        "id": "vmbhiJfy_z5i"
      },
      "source": [
        "#### Desired output::"
      ]
    },
    {
      "cell_type": "markdown",
      "metadata": {
        "id": "bSgjnZRc_z5j"
      },
      "source": [
        "array([[0, 1, 2, 3, 4],\n",
        "        [5, 6, 7, 8, 9]])"
      ]
    },
    {
      "cell_type": "code",
      "metadata": {
        "colab": {
          "base_uri": "https://localhost:8080/"
        },
        "id": "E9hGQKUl_z5j",
        "outputId": "20ab9ef8-08b4-49d4-c44a-2b8812040d8d"
      },
      "source": [
        "a = np.arange(10)\r\n",
        "splited = np.split(a,2)\r\n",
        "arr2d = np.array(splited).reshape(2,5)\r\n",
        "arr2d"
      ],
      "execution_count": 4,
      "outputs": [
        {
          "output_type": "execute_result",
          "data": {
            "text/plain": [
              "array([[0, 1, 2, 3, 4],\n",
              "       [5, 6, 7, 8, 9]])"
            ]
          },
          "metadata": {
            "tags": []
          },
          "execution_count": 4
        }
      ]
    },
    {
      "cell_type": "markdown",
      "metadata": {
        "id": "YWY_y6nU_z5k"
      },
      "source": [
        "## Question:2"
      ]
    },
    {
      "cell_type": "markdown",
      "metadata": {
        "id": "q_qVeUBm_z5k"
      },
      "source": [
        "###  How to stack two arrays vertically?"
      ]
    },
    {
      "cell_type": "markdown",
      "metadata": {
        "id": "NI9xzZCT_z5l"
      },
      "source": [
        "#### Desired Output::"
      ]
    },
    {
      "cell_type": "markdown",
      "metadata": {
        "id": "4_o1Rc5i_z5l"
      },
      "source": [
        "array([[0, 1, 2, 3, 4],\n",
        "        [5, 6, 7, 8, 9],\n",
        "       [1, 1, 1, 1, 1],\n",
        "       [1, 1, 1, 1, 1]])"
      ]
    },
    {
      "cell_type": "code",
      "metadata": {
        "id": "HcK30e9H_z5m",
        "colab": {
          "base_uri": "https://localhost:8080/"
        },
        "outputId": "b52cbe56-72e8-44ce-958f-65733744a9b9"
      },
      "source": [
        "arr1 = np.arange(10).reshape(2,5)\r\n",
        "arr2 = np.ones(10,dtype=np.int32).reshape(2,5)\r\n",
        "np.vstack([arr1,arr2])"
      ],
      "execution_count": 11,
      "outputs": [
        {
          "output_type": "execute_result",
          "data": {
            "text/plain": [
              "array([[0, 1, 2, 3, 4],\n",
              "       [5, 6, 7, 8, 9],\n",
              "       [1, 1, 1, 1, 1],\n",
              "       [1, 1, 1, 1, 1]])"
            ]
          },
          "metadata": {
            "tags": []
          },
          "execution_count": 11
        }
      ]
    },
    {
      "cell_type": "markdown",
      "metadata": {
        "id": "s-pkXgdV_z5m"
      },
      "source": [
        "## Question:3"
      ]
    },
    {
      "cell_type": "markdown",
      "metadata": {
        "id": "2qZCcUom_z5m"
      },
      "source": [
        "### How to stack two arrays horizontally?"
      ]
    },
    {
      "cell_type": "markdown",
      "metadata": {
        "id": "DhUhwL-s_z5n"
      },
      "source": [
        "#### Desired Output::"
      ]
    },
    {
      "cell_type": "markdown",
      "metadata": {
        "id": "6uZPbTKj_z5n"
      },
      "source": [
        "array([[0, 1, 2, 3, 4, 1, 1, 1, 1, 1],\n",
        "       [5, 6, 7, 8, 9, 1, 1, 1, 1, 1]])"
      ]
    },
    {
      "cell_type": "code",
      "metadata": {
        "id": "Ffi-qOzz_z5n",
        "colab": {
          "base_uri": "https://localhost:8080/"
        },
        "outputId": "6409999b-0def-4f00-c2fe-f47ca870d48a"
      },
      "source": [
        "np.hstack([arr1,arr2])"
      ],
      "execution_count": 13,
      "outputs": [
        {
          "output_type": "execute_result",
          "data": {
            "text/plain": [
              "array([[0, 1, 2, 3, 4, 1, 1, 1, 1, 1],\n",
              "       [5, 6, 7, 8, 9, 1, 1, 1, 1, 1]])"
            ]
          },
          "metadata": {
            "tags": []
          },
          "execution_count": 13
        }
      ]
    },
    {
      "cell_type": "markdown",
      "metadata": {
        "id": "3-pflj4v_z5n"
      },
      "source": [
        "## Question:4"
      ]
    },
    {
      "cell_type": "markdown",
      "metadata": {
        "id": "4SNz9gkr_z5o"
      },
      "source": [
        "### How to convert an array of arrays into a flat 1d array?"
      ]
    },
    {
      "cell_type": "markdown",
      "metadata": {
        "id": "mTLFD1AO_z5o"
      },
      "source": [
        "#### Desired Output::"
      ]
    },
    {
      "cell_type": "markdown",
      "metadata": {
        "id": "DWo-dzvl_z5o"
      },
      "source": [
        "array([0, 1, 2, 3, 4, 5, 6, 7, 8, 9])"
      ]
    },
    {
      "cell_type": "code",
      "metadata": {
        "id": "o9Q9TaOw_z5o",
        "colab": {
          "base_uri": "https://localhost:8080/"
        },
        "outputId": "97470564-7d58-4e11-e58e-24605657349d"
      },
      "source": [
        "arrOfarr = np.array([list(np.random.randn(2,3) for i in range(2))])\r\n",
        "flattened = arrOfarr.ravel()\r\n",
        "flattened"
      ],
      "execution_count": 16,
      "outputs": [
        {
          "output_type": "execute_result",
          "data": {
            "text/plain": [
              "array([-0.46524568,  1.61193795, -0.71783513, -0.44463008,  0.38715078,\n",
              "       -1.88533278, -0.86520643,  0.80013344, -1.94543275,  2.30279636,\n",
              "       -0.74298683, -0.0244165 ])"
            ]
          },
          "metadata": {
            "tags": []
          },
          "execution_count": 16
        }
      ]
    },
    {
      "cell_type": "markdown",
      "metadata": {
        "id": "W5F_2N89_z5p"
      },
      "source": [
        "## Question:5"
      ]
    },
    {
      "cell_type": "markdown",
      "metadata": {
        "id": "Ky9NhxRe_z5p"
      },
      "source": [
        "### How to Convert higher dimension into one dimension?"
      ]
    },
    {
      "cell_type": "markdown",
      "metadata": {
        "id": "5FzCyJT6_z5p"
      },
      "source": [
        "#### Desired Output::"
      ]
    },
    {
      "cell_type": "markdown",
      "metadata": {
        "id": "KPz66bQ2_z5p"
      },
      "source": [
        "array([ 0, 1, 2, 3, 4, 5, 6, 7, 8, 9, 10, 11, 12, 13, 14])"
      ]
    },
    {
      "cell_type": "code",
      "metadata": {
        "id": "Q1rWAwdX_z5q",
        "colab": {
          "base_uri": "https://localhost:8080/"
        },
        "outputId": "2007a593-424f-4110-fafa-777659ade143"
      },
      "source": [
        "a = np.random.rand(10*4*4).reshape(4,4,10)\r\n",
        "oneD = a.ravel()\r\n",
        "oneD"
      ],
      "execution_count": 22,
      "outputs": [
        {
          "output_type": "execute_result",
          "data": {
            "text/plain": [
              "array([0.12685059, 0.27178615, 0.86347731, 0.75800896, 0.63368186,\n",
              "       0.40608998, 0.06887567, 0.45778045, 0.45853892, 0.25039803,\n",
              "       0.28946818, 0.16083501, 0.72310848, 0.14561762, 0.62400834,\n",
              "       0.5654387 , 0.05147003, 0.83299077, 0.61310546, 0.61632705,\n",
              "       0.82517575, 0.82536006, 0.54229537, 0.92439498, 0.50823501,\n",
              "       0.2994161 , 0.09858711, 0.35786196, 0.04505667, 0.17061461,\n",
              "       0.70740194, 0.29946156, 0.64801691, 0.52116146, 0.68873644,\n",
              "       0.06118926, 0.36466527, 0.4766879 , 0.92292923, 0.98463272,\n",
              "       0.39463712, 0.62146141, 0.76354993, 0.69443843, 0.81076458,\n",
              "       0.59686601, 0.04604352, 0.33945607, 0.29129868, 0.13660666,\n",
              "       0.48746785, 0.58396181, 0.87885682, 0.12894491, 0.38301576,\n",
              "       0.1391479 , 0.54422277, 0.74882082, 0.46469469, 0.01731008,\n",
              "       0.09254229, 0.52667861, 0.8652112 , 0.39361353, 0.92071609,\n",
              "       0.30751925, 0.42447972, 0.14201396, 0.37080838, 0.6943078 ,\n",
              "       0.56122965, 0.16341511, 0.02777448, 0.10246891, 0.24662114,\n",
              "       0.31761789, 0.73819234, 0.42794403, 0.4103046 , 0.16955821,\n",
              "       0.06397696, 0.17817985, 0.29144166, 0.3732659 , 0.79520783,\n",
              "       0.21611757, 0.22867423, 0.88281625, 0.60353407, 0.70655226,\n",
              "       0.05840406, 0.12050982, 0.93221496, 0.70829272, 0.02659495,\n",
              "       0.8158197 , 0.95688622, 0.57744907, 0.46303723, 0.29441918,\n",
              "       0.19789841, 0.2936013 , 0.7300196 , 0.18447851, 0.79148646,\n",
              "       0.03604286, 0.53306633, 0.36000369, 0.29926597, 0.59879092,\n",
              "       0.85909845, 0.95830109, 0.36294212, 0.8536279 , 0.89902581,\n",
              "       0.93049554, 0.89710586, 0.42731898, 0.78342048, 0.08909444,\n",
              "       0.79633415, 0.62668626, 0.32826094, 0.63211486, 0.73815829,\n",
              "       0.83299035, 0.78521129, 0.39357341, 0.78444767, 0.61629354,\n",
              "       0.86115299, 0.03972908, 0.77567249, 0.31509306, 0.70714085,\n",
              "       0.46737982, 0.33023124, 0.76972422, 0.81612258, 0.8087504 ,\n",
              "       0.79082956, 0.54053968, 0.35576196, 0.93670594, 0.97241382,\n",
              "       0.11072757, 0.74692904, 0.33941504, 0.11966498, 0.51493129,\n",
              "       0.52865949, 0.03918593, 0.40029752, 0.08173442, 0.9391167 ,\n",
              "       0.97764268, 0.91437631, 0.81448467, 0.54023415, 0.99201506])"
            ]
          },
          "metadata": {
            "tags": []
          },
          "execution_count": 22
        }
      ]
    },
    {
      "cell_type": "markdown",
      "metadata": {
        "id": "upoXaF9P_z5q"
      },
      "source": [
        "## Question:6"
      ]
    },
    {
      "cell_type": "markdown",
      "metadata": {
        "id": "_xcbDs5P_z5q"
      },
      "source": [
        "### Convert one dimension to higher dimension?"
      ]
    },
    {
      "cell_type": "markdown",
      "metadata": {
        "id": "hegZazaP_z5q"
      },
      "source": [
        "#### Desired Output::"
      ]
    },
    {
      "cell_type": "markdown",
      "metadata": {
        "id": "70rzBQD0_z5r"
      },
      "source": [
        "array([[ 0, 1, 2],\n",
        "[ 3, 4, 5],\n",
        "[ 6, 7, 8],\n",
        "[ 9, 10, 11],\n",
        "[12, 13, 14]])"
      ]
    },
    {
      "cell_type": "code",
      "metadata": {
        "id": "JJ3hIBbV_z5t",
        "colab": {
          "base_uri": "https://localhost:8080/"
        },
        "outputId": "fd2b2d81-2abd-4f4a-cf63-5059f48048bf"
      },
      "source": [
        "a = np.arange(15)\r\n",
        "np.array(np.split(a,5))"
      ],
      "execution_count": 30,
      "outputs": [
        {
          "output_type": "execute_result",
          "data": {
            "text/plain": [
              "array([[ 0,  1,  2],\n",
              "       [ 3,  4,  5],\n",
              "       [ 6,  7,  8],\n",
              "       [ 9, 10, 11],\n",
              "       [12, 13, 14]])"
            ]
          },
          "metadata": {
            "tags": []
          },
          "execution_count": 30
        }
      ]
    },
    {
      "cell_type": "markdown",
      "metadata": {
        "id": "9SKwFogW_z5t"
      },
      "source": [
        "## Question:7"
      ]
    },
    {
      "cell_type": "markdown",
      "metadata": {
        "id": "GO2VYoUc_z5t"
      },
      "source": [
        "### Create 5x5 an array and find the square of an array?"
      ]
    },
    {
      "cell_type": "code",
      "metadata": {
        "id": "DAF1dH1-_z5u",
        "colab": {
          "base_uri": "https://localhost:8080/"
        },
        "outputId": "f8c76bff-f781-492b-f0e8-58bddc880401"
      },
      "source": [
        "arr = np.random.randn(5,5)\r\n",
        "np.square(arr)"
      ],
      "execution_count": 33,
      "outputs": [
        {
          "output_type": "execute_result",
          "data": {
            "text/plain": [
              "array([[9.02529736e-02, 6.52141562e-02, 4.68373478e-01, 1.76532659e+00,\n",
              "        2.60245517e+00],\n",
              "       [3.71264002e-01, 1.66266866e-02, 2.47252801e-02, 1.15710717e+00,\n",
              "        9.04101397e-02],\n",
              "       [2.45530073e+00, 8.13589228e-01, 8.72806198e-01, 9.17213030e-01,\n",
              "        1.67029950e+00],\n",
              "       [3.64483992e-01, 1.87496603e+00, 1.87658082e+00, 1.61023772e+00,\n",
              "        3.67453693e-01],\n",
              "       [4.75772479e+00, 4.83742635e-03, 2.57605989e+00, 9.30243260e-03,\n",
              "        3.23008379e-03]])"
            ]
          },
          "metadata": {
            "tags": []
          },
          "execution_count": 33
        }
      ]
    },
    {
      "cell_type": "markdown",
      "metadata": {
        "id": "sYT9J0ro_z5u"
      },
      "source": [
        "## Question:8"
      ]
    },
    {
      "cell_type": "markdown",
      "metadata": {
        "id": "xdgjO4pf_z5u"
      },
      "source": [
        "### Create 5x6 an array and find the mean?"
      ]
    },
    {
      "cell_type": "code",
      "metadata": {
        "id": "Sw0uV8lp_z5u",
        "colab": {
          "base_uri": "https://localhost:8080/"
        },
        "outputId": "8bda1979-c759-4c49-cf33-7e888cc67985"
      },
      "source": [
        "a = np.random.randn(5,6)\r\n",
        "a.mean()"
      ],
      "execution_count": 34,
      "outputs": [
        {
          "output_type": "execute_result",
          "data": {
            "text/plain": [
              "0.014817603495794565"
            ]
          },
          "metadata": {
            "tags": []
          },
          "execution_count": 34
        }
      ]
    },
    {
      "cell_type": "markdown",
      "metadata": {
        "id": "maQ0mn0Z_z5v"
      },
      "source": [
        "## Question:9"
      ]
    },
    {
      "cell_type": "markdown",
      "metadata": {
        "id": "dMmRQ3Ei_z5v"
      },
      "source": [
        "### Find the standard deviation of the previous array in Q8?"
      ]
    },
    {
      "cell_type": "code",
      "metadata": {
        "id": "aK0Jcx2K_z5v",
        "colab": {
          "base_uri": "https://localhost:8080/"
        },
        "outputId": "1aed46ca-5239-444e-a9f7-0458c9cca2aa"
      },
      "source": [
        "a.std()"
      ],
      "execution_count": 35,
      "outputs": [
        {
          "output_type": "execute_result",
          "data": {
            "text/plain": [
              "1.0686066956591238"
            ]
          },
          "metadata": {
            "tags": []
          },
          "execution_count": 35
        }
      ]
    },
    {
      "cell_type": "markdown",
      "metadata": {
        "id": "EEAUPPp6_z5v"
      },
      "source": [
        "## Question:10"
      ]
    },
    {
      "cell_type": "markdown",
      "metadata": {
        "id": "GxkMwugh_z5v"
      },
      "source": [
        "### Find the median of the previous array in Q8?"
      ]
    },
    {
      "cell_type": "code",
      "metadata": {
        "id": "uVYxEpW__z5w",
        "colab": {
          "base_uri": "https://localhost:8080/"
        },
        "outputId": "41dcd63c-998a-42fa-d30b-e365c746ecf3"
      },
      "source": [
        "np.median(a)"
      ],
      "execution_count": 37,
      "outputs": [
        {
          "output_type": "execute_result",
          "data": {
            "text/plain": [
              "0.11295456292513631"
            ]
          },
          "metadata": {
            "tags": []
          },
          "execution_count": 37
        }
      ]
    },
    {
      "cell_type": "markdown",
      "metadata": {
        "id": "scBCgwjv_z5w"
      },
      "source": [
        "## Question:11"
      ]
    },
    {
      "cell_type": "markdown",
      "metadata": {
        "id": "rWTQtipI_z5w"
      },
      "source": [
        "### Find the transpose of the previous array in Q8?"
      ]
    },
    {
      "cell_type": "code",
      "metadata": {
        "id": "ggParkRD_z5w",
        "colab": {
          "base_uri": "https://localhost:8080/"
        },
        "outputId": "72734d8d-a9f1-42e7-9745-2b73c10b9ca0"
      },
      "source": [
        "a.T"
      ],
      "execution_count": 38,
      "outputs": [
        {
          "output_type": "execute_result",
          "data": {
            "text/plain": [
              "array([[ 2.54315904,  0.12024263, -0.96577048, -0.29496015,  0.08044074],\n",
              "       [ 1.00173874,  0.91419771, -0.33099285,  0.78965063,  0.15125706],\n",
              "       [ 0.81220907,  0.10566649,  1.60759388,  1.21896658,  0.2093729 ],\n",
              "       [-1.15788157,  0.71417145, -0.78151864, -0.32720341,  0.2721217 ],\n",
              "       [ 0.66291845, -2.69630918, -1.31368094,  0.07885106, -0.9552699 ],\n",
              "       [ 0.81630253, -0.04365121,  0.35937782, -2.13516323, -1.01130883]])"
            ]
          },
          "metadata": {
            "tags": []
          },
          "execution_count": 38
        }
      ]
    },
    {
      "cell_type": "code",
      "metadata": {
        "colab": {
          "base_uri": "https://localhost:8080/"
        },
        "id": "UYxKz3ovi3_g",
        "outputId": "f4fa50ae-ac86-4950-dec0-2da468af60fa"
      },
      "source": [
        "np.transpose(a)"
      ],
      "execution_count": 39,
      "outputs": [
        {
          "output_type": "execute_result",
          "data": {
            "text/plain": [
              "array([[ 2.54315904,  0.12024263, -0.96577048, -0.29496015,  0.08044074],\n",
              "       [ 1.00173874,  0.91419771, -0.33099285,  0.78965063,  0.15125706],\n",
              "       [ 0.81220907,  0.10566649,  1.60759388,  1.21896658,  0.2093729 ],\n",
              "       [-1.15788157,  0.71417145, -0.78151864, -0.32720341,  0.2721217 ],\n",
              "       [ 0.66291845, -2.69630918, -1.31368094,  0.07885106, -0.9552699 ],\n",
              "       [ 0.81630253, -0.04365121,  0.35937782, -2.13516323, -1.01130883]])"
            ]
          },
          "metadata": {
            "tags": []
          },
          "execution_count": 39
        }
      ]
    },
    {
      "cell_type": "code",
      "metadata": {
        "colab": {
          "base_uri": "https://localhost:8080/"
        },
        "id": "O1AVHZ2Ni6Wk",
        "outputId": "e8ad808e-e082-423b-912e-1f04a8f7a9c4"
      },
      "source": [
        "a.T.shape"
      ],
      "execution_count": 40,
      "outputs": [
        {
          "output_type": "execute_result",
          "data": {
            "text/plain": [
              "(6, 5)"
            ]
          },
          "metadata": {
            "tags": []
          },
          "execution_count": 40
        }
      ]
    },
    {
      "cell_type": "markdown",
      "metadata": {
        "id": "u9WUfdcY_z5x"
      },
      "source": [
        "## Question:12"
      ]
    },
    {
      "cell_type": "markdown",
      "metadata": {
        "id": "pd3TbA--_z5x"
      },
      "source": [
        "### Create a 4x4 an array and find the sum of diagonal elements?"
      ]
    },
    {
      "cell_type": "code",
      "metadata": {
        "id": "vIJ9jFzs_z5x",
        "colab": {
          "base_uri": "https://localhost:8080/"
        },
        "outputId": "5ec717ca-2cd9-4716-b2bd-250fbf569709"
      },
      "source": [
        "arr = np.random.randn(4,4)*10\r\n",
        "print(arr)\r\n",
        "print(\"Sum of Diagonals: \",np.sum(np.diag(arr)))\r\n"
      ],
      "execution_count": 43,
      "outputs": [
        {
          "output_type": "stream",
          "text": [
            "[[-14.03682274  -1.55293437   4.30255488  -4.90618937]\n",
            " [ 10.46588873  -4.00344296  -5.8372132   -4.89428912]\n",
            " [-10.4443099    9.10327056   7.22922443  -5.95125556]\n",
            " [  2.39538406  -4.27594146   5.72318911  -2.41035246]]\n",
            "Sum of Diagonals:  -13.221393724543976\n"
          ],
          "name": "stdout"
        }
      ]
    },
    {
      "cell_type": "markdown",
      "metadata": {
        "id": "DiDnjkyJ_z5x"
      },
      "source": [
        "## Question:13"
      ]
    },
    {
      "cell_type": "markdown",
      "metadata": {
        "id": "itRwafYY_z5y"
      },
      "source": [
        "### Find the determinant of the previous array in Q12?"
      ]
    },
    {
      "cell_type": "code",
      "metadata": {
        "id": "UIQZfFdt_z5y",
        "colab": {
          "base_uri": "https://localhost:8080/"
        },
        "outputId": "8fae7572-2fa4-49f9-e1aa-a7a29e49eb91"
      },
      "source": [
        "np.linalg.det(arr)"
      ],
      "execution_count": 48,
      "outputs": [
        {
          "output_type": "execute_result",
          "data": {
            "text/plain": [
              "11892.09600878383"
            ]
          },
          "metadata": {
            "tags": []
          },
          "execution_count": 48
        }
      ]
    },
    {
      "cell_type": "markdown",
      "metadata": {
        "id": "GxeZTku2_z5y"
      },
      "source": [
        "## Question:14"
      ]
    },
    {
      "cell_type": "markdown",
      "metadata": {
        "id": "6uJgOO9g_z5y"
      },
      "source": [
        "### Find the 5th and 95th percentile of an array?"
      ]
    },
    {
      "cell_type": "code",
      "metadata": {
        "id": "YPoloE6E_z5y",
        "colab": {
          "base_uri": "https://localhost:8080/"
        },
        "outputId": "560e39cf-06fe-4264-8779-bae2c971d531"
      },
      "source": [
        "np.percentile(arr,[5,95])"
      ],
      "execution_count": 49,
      "outputs": [
        {
          "output_type": "execute_result",
          "data": {
            "text/plain": [
              "array([-11.34243811,   9.4439251 ])"
            ]
          },
          "metadata": {
            "tags": []
          },
          "execution_count": 49
        }
      ]
    },
    {
      "cell_type": "markdown",
      "metadata": {
        "id": "DOBBVw0z_z5z"
      },
      "source": [
        "## Question:15"
      ]
    },
    {
      "cell_type": "markdown",
      "metadata": {
        "id": "kf9jWn2z_z5z"
      },
      "source": [
        "### How to find if a given array has any null values?"
      ]
    },
    {
      "cell_type": "code",
      "metadata": {
        "id": "AfTSx5T-_z5z",
        "colab": {
          "base_uri": "https://localhost:8080/"
        },
        "outputId": "703d27e4-a807-4682-f275-3fd2de567c72"
      },
      "source": [
        "np.isnan(arr)"
      ],
      "execution_count": 51,
      "outputs": [
        {
          "output_type": "execute_result",
          "data": {
            "text/plain": [
              "array([[False, False, False, False],\n",
              "       [False, False, False, False],\n",
              "       [False, False, False, False],\n",
              "       [False, False, False, False]])"
            ]
          },
          "metadata": {
            "tags": []
          },
          "execution_count": 51
        }
      ]
    }
  ]
}