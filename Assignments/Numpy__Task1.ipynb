{
  "nbformat": 4,
  "nbformat_minor": 0,
  "metadata": {
    "kernelspec": {
      "display_name": "Python 3",
      "language": "python",
      "name": "python3"
    },
    "language_info": {
      "codemirror_mode": {
        "name": "ipython",
        "version": 3
      },
      "file_extension": ".py",
      "mimetype": "text/x-python",
      "name": "python",
      "nbconvert_exporter": "python",
      "pygments_lexer": "ipython3",
      "version": "3.7.4"
    },
    "colab": {
      "name": "Numpy _Task1.ipynb",
      "provenance": [],
      "collapsed_sections": []
    }
  },
  "cells": [
    {
      "cell_type": "markdown",
      "metadata": {
        "id": "AP2S42kbzg6l"
      },
      "source": [
        "# Reading Recipes \n",
        "\n",
        "Note: Data file is recipes.csv Attached with jupyter notebook"
      ]
    },
    {
      "cell_type": "markdown",
      "metadata": {
        "id": "-sIQ3Isazg6s"
      },
      "source": [
        "1. Start by importing NumPy as np"
      ]
    },
    {
      "cell_type": "code",
      "metadata": {
        "id": "LPLx-kBzznEk"
      },
      "source": [
        ""
      ],
      "execution_count": null,
      "outputs": []
    },
    {
      "cell_type": "code",
      "metadata": {
        "id": "h8VGImQ6zg6t"
      },
      "source": [
        "#type your code here\n",
        "import numpy as np"
      ],
      "execution_count": null,
      "outputs": []
    },
    {
      "cell_type": "code",
      "metadata": {
        "id": "SmNNfgTBzrhf"
      },
      "source": [
        ""
      ],
      "execution_count": null,
      "outputs": []
    },
    {
      "cell_type": "markdown",
      "metadata": {
        "id": "XrqrsZWOzg6u"
      },
      "source": [
        "2. All of Alize’s recipes call for milk, eggs, sugar, flour, and butter. For example, her cupcake recipe calls for:\n",
        "\n",
        "Flour Sugar Eggs Milk Butter 2 cups 0.75 cups 2 eggs 1 cups 0.5 cups Create a NumPy array that represents this data. Each element should be a number (i.e., 2 for “2 cups”). Save this array as cupcakes."
      ]
    },
    {
      "cell_type": "code",
      "metadata": {
        "id": "82DUt-j6zg6u"
      },
      "source": [
        "#type your code here\n",
        "cupcakes = np.array([2   , 0.75 , 2   , 1  , 0.5  ])"
      ],
      "execution_count": null,
      "outputs": []
    },
    {
      "cell_type": "code",
      "metadata": {
        "colab": {
          "base_uri": "https://localhost:8080/"
        },
        "id": "iFIrKMO10Qzu",
        "outputId": "01ac9802-0e3e-4d0a-9f19-5a382f70e19f"
      },
      "source": [
        "cupcakes"
      ],
      "execution_count": null,
      "outputs": [
        {
          "output_type": "execute_result",
          "data": {
            "text/plain": [
              "array([2.  , 0.75, 2.  , 1.  , 0.5 ])"
            ]
          },
          "metadata": {
            "tags": []
          },
          "execution_count": 86
        }
      ]
    },
    {
      "cell_type": "markdown",
      "metadata": {
        "id": "6bilT9Avzg6u"
      },
      "source": [
        "3. Alize’s assistant has compiled all of her recipes into a csv (comma-separated variable) file called recipes.csv. Load this file into a variable called recipes.\n",
        "\n",
        "###########Explore yourselves how to load a csv file in numpy#######"
      ]
    },
    {
      "cell_type": "code",
      "metadata": {
        "colab": {
          "base_uri": "https://localhost:8080/"
        },
        "id": "X9-OQsMQzg6v",
        "outputId": "f0842729-6cd3-4fe3-8c57-64f8e932f8ee"
      },
      "source": [
        "#type your code here\n",
        "recipies = np.genfromtxt('/content/drive/MyDrive/PIAIC/piaic_q2_Assignments/NumpyTask1/recipes.csv',delimiter=',')\n",
        "recipies"
      ],
      "execution_count": null,
      "outputs": [
        {
          "output_type": "execute_result",
          "data": {
            "text/plain": [
              "array([[2.   , 0.75 , 2.   , 1.   , 0.5  ],\n",
              "       [1.   , 0.125, 1.   , 1.   , 0.125],\n",
              "       [2.75 , 1.5  , 1.   , 0.   , 1.   ],\n",
              "       [4.   , 0.5  , 2.   , 2.   , 0.5  ]])"
            ]
          },
          "metadata": {
            "tags": []
          },
          "execution_count": 72
        }
      ]
    },
    {
      "cell_type": "markdown",
      "metadata": {
        "id": "21ks3bUNzg6v"
      },
      "source": [
        "4.Display recipes using print.\n",
        "Display recipes using print.\n",
        "\n",
        "\n",
        "Each row represents a different recipe. Each column represents a different ingredient.\n",
        "\n",
        "Recipe\t       Cups of Flour\tCups of Sugar\tEggs\tCups of Milk\tCups of Butter\n",
        "\n",
        "Cupcakes\t         …\t              …\t          …\t         …\t              …\n",
        "\n",
        "Pancake\t             …                …\t          …\t         …\t              …\n",
        "\n",
        "Cookie\t             …\t              …\t          …\t         …\t              …\n",
        "\n",
        "Bread\t             …\t              …\t          …\t         …\t              …"
      ]
    },
    {
      "cell_type": "code",
      "metadata": {
        "id": "ESHj7pQT3DLZ"
      },
      "source": [
        "index = ['Cupcakes','Pancake','Cookie','Bread']\r\n",
        "recipies = np.c_[index,recipies]"
      ],
      "execution_count": null,
      "outputs": []
    },
    {
      "cell_type": "code",
      "metadata": {
        "colab": {
          "base_uri": "https://localhost:8080/"
        },
        "id": "G3qu1DYo4sBo",
        "outputId": "0caf5390-f826-4913-c837-bfe80a843a09"
      },
      "source": [
        "print(recipies)"
      ],
      "execution_count": null,
      "outputs": [
        {
          "output_type": "stream",
          "text": [
            "[[2.    0.75  2.    1.    0.5  ]\n",
            " [1.    0.125 1.    1.    0.125]\n",
            " [2.75  1.5   1.    0.    1.   ]\n",
            " [4.    0.5   2.    2.    0.5  ]]\n"
          ],
          "name": "stdout"
        }
      ]
    },
    {
      "cell_type": "code",
      "metadata": {
        "colab": {
          "base_uri": "https://localhost:8080/"
        },
        "id": "qBnlPxFq6eU7",
        "outputId": "6813f46a-81b2-45e8-c0ec-70a907084dae"
      },
      "source": [
        "columns = np.array(['Recipie','Cups of Flour','Cups of Sugar' ,'Eggs','Cups of Milk','Cups of Butter'])\r\n",
        "columns"
      ],
      "execution_count": null,
      "outputs": [
        {
          "output_type": "execute_result",
          "data": {
            "text/plain": [
              "array(['Recipie', 'Cups of Flour', 'Cups of Sugar', 'Eggs',\n",
              "       'Cups of Milk', 'Cups of Butter'], dtype='<U14')"
            ]
          },
          "metadata": {
            "tags": []
          },
          "execution_count": 61
        }
      ]
    },
    {
      "cell_type": "code",
      "metadata": {
        "colab": {
          "base_uri": "https://localhost:8080/"
        },
        "id": "3zycX9jP3-lS",
        "outputId": "1c88f6d2-bf37-44b0-d9af-bedf48e3a08c"
      },
      "source": [
        "# recipies = np.hstack((columns[0],recipies))\r\n",
        "recipies1 = np.vstack((columns,recipies))\r\n",
        "recipies1"
      ],
      "execution_count": null,
      "outputs": [
        {
          "output_type": "execute_result",
          "data": {
            "text/plain": [
              "array([['Recipie', 'Cups of Flour', 'Cups of Sugar', 'Eggs',\n",
              "        'Cups of Milk', 'Cups of Butter'],\n",
              "       ['Cupcakes', '2.0', '0.75', '2.0', '1.0', '0.5'],\n",
              "       ['Pancake', '1.0', '0.125', '1.0', '1.0', '0.125'],\n",
              "       ['Cookie', '2.75', '1.5', '1.0', '0.0', '1.0'],\n",
              "       ['Bread', '4.0', '0.5', '2.0', '2.0', '0.5']], dtype='<U32')"
            ]
          },
          "metadata": {
            "tags": []
          },
          "execution_count": 64
        }
      ]
    },
    {
      "cell_type": "code",
      "metadata": {
        "colab": {
          "base_uri": "https://localhost:8080/"
        },
        "id": "9mlJUr7-zg6v",
        "outputId": "b0162ecf-d323-4d8a-9de7-a62903080243"
      },
      "source": [
        "#type your code here\n",
        "print(recipies)"
      ],
      "execution_count": null,
      "outputs": [
        {
          "output_type": "stream",
          "text": [
            "[['Cupcakes' '2.0' '0.75' '2.0' '1.0' '0.5']\n",
            " ['Pancake' '1.0' '0.125' '1.0' '1.0' '0.125']\n",
            " ['Cookie' '2.75' '1.5' '1.0' '0.0' '1.0']\n",
            " ['Bread' '4.0' '0.5' '2.0' '2.0' '0.5']]\n"
          ],
          "name": "stdout"
        }
      ]
    },
    {
      "cell_type": "markdown",
      "metadata": {
        "id": "hfkSQ2I5zg6w"
      },
      "source": [
        "5.The 3rd column represents the number of eggs that each recipe needs.\n",
        "\n",
        "Select all elements from the 3rd column and save them to the variable eggs."
      ]
    },
    {
      "cell_type": "code",
      "metadata": {
        "id": "mNeWf1pJzg6w"
      },
      "source": [
        "#type your code here\n",
        "eggs = recipies[:,3]"
      ],
      "execution_count": null,
      "outputs": []
    },
    {
      "cell_type": "markdown",
      "metadata": {
        "id": "W7s_oFTezg6w"
      },
      "source": [
        "6.Which recipes require exactly 1 egg? Use a logical statement to get True or False for each value of eggs."
      ]
    },
    {
      "cell_type": "code",
      "metadata": {
        "colab": {
          "base_uri": "https://localhost:8080/"
        },
        "id": "TlLF1GWQzg6w",
        "outputId": "5983df17-0119-49da-b129-da04ead2866e"
      },
      "source": [
        "#type your code here\n",
        "recipies[eggs == 1]"
      ],
      "execution_count": null,
      "outputs": [
        {
          "output_type": "execute_result",
          "data": {
            "text/plain": [
              "array([[2.   , 0.75 , 2.   , 1.   , 0.5  ],\n",
              "       [1.   , 0.125, 1.   , 1.   , 0.125]])"
            ]
          },
          "metadata": {
            "tags": []
          },
          "execution_count": 75
        }
      ]
    },
    {
      "cell_type": "markdown",
      "metadata": {
        "id": "ZuebFliYzg6x"
      },
      "source": [
        "7.Alize is going to make 2 batches of cupcakes (1st row) and 1 batch of cookies (3rd row).\n",
        "\n",
        "You already have a variable for cupcakes. Create a variable for cookies with the data from the 3rd row.\n"
      ]
    },
    {
      "cell_type": "code",
      "metadata": {
        "colab": {
          "base_uri": "https://localhost:8080/"
        },
        "id": "VzDJ1o_izg6x",
        "outputId": "ee854043-b356-4433-de40-7425dee1516a"
      },
      "source": [
        "cookies = recipies[2]\n",
        "cookies"
      ],
      "execution_count": null,
      "outputs": [
        {
          "output_type": "execute_result",
          "data": {
            "text/plain": [
              "array([2.75, 1.5 , 1.  , 0.  , 1.  ])"
            ]
          },
          "metadata": {
            "tags": []
          },
          "execution_count": 79
        }
      ]
    },
    {
      "cell_type": "markdown",
      "metadata": {
        "id": "yNFLy3zLzg6x"
      },
      "source": [
        "8.\n",
        "Get the number of ingredients for a double batch of cupcakes by using multiplication on cupcakes. Save your new variable to double_batch."
      ]
    },
    {
      "cell_type": "code",
      "metadata": {
        "colab": {
          "base_uri": "https://localhost:8080/"
        },
        "id": "0_kO_0c3zg6x",
        "outputId": "e90b3e4e-4bdf-4b31-ab76-20875e2673e5"
      },
      "source": [
        "#type your code here\n",
        "double_batch = cupcakes*2\n",
        "double_batch"
      ],
      "execution_count": null,
      "outputs": [
        {
          "output_type": "execute_result",
          "data": {
            "text/plain": [
              "array([4. , 1.5, 4. , 2. , 1. ])"
            ]
          },
          "metadata": {
            "tags": []
          },
          "execution_count": 81
        }
      ]
    },
    {
      "cell_type": "markdown",
      "metadata": {
        "id": "Tc-MaQqdzg6x"
      },
      "source": [
        "9.\n",
        "Create a new variable called grocery_list by adding cookies and double_batch."
      ]
    },
    {
      "cell_type": "code",
      "metadata": {
        "id": "38Bst0nqzg6y"
      },
      "source": [
        "#type your code here\n",
        "grocery_list = np.concatenate((cookies,double_batch))\n"
      ],
      "execution_count": null,
      "outputs": []
    },
    {
      "cell_type": "code",
      "metadata": {
        "colab": {
          "base_uri": "https://localhost:8080/"
        },
        "id": "F-GCLMwO8mDF",
        "outputId": "907c828f-ab70-437e-c59a-6f7301f76625"
      },
      "source": [
        "grocery_list"
      ],
      "execution_count": null,
      "outputs": [
        {
          "output_type": "execute_result",
          "data": {
            "text/plain": [
              "array([2.75, 1.5 , 1.  , 0.  , 1.  , 4.  , 1.5 , 4.  , 2.  , 1.  ])"
            ]
          },
          "metadata": {
            "tags": []
          },
          "execution_count": 84
        }
      ]
    },
    {
      "cell_type": "code",
      "metadata": {
        "id": "o8bj0o70zg6y"
      },
      "source": [
        ""
      ],
      "execution_count": null,
      "outputs": []
    },
    {
      "cell_type": "code",
      "metadata": {
        "id": "FWzs485D0POq"
      },
      "source": [
        ""
      ],
      "execution_count": null,
      "outputs": []
    }
  ]
}