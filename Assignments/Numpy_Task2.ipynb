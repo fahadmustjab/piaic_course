{
  "nbformat": 4,
  "nbformat_minor": 0,
  "metadata": {
    "kernelspec": {
      "display_name": "Python 3",
      "language": "python",
      "name": "python3"
    },
    "language_info": {
      "codemirror_mode": {
        "name": "ipython",
        "version": 3
      },
      "file_extension": ".py",
      "mimetype": "text/x-python",
      "name": "python",
      "nbconvert_exporter": "python",
      "pygments_lexer": "ipython3",
      "version": "3.7.4"
    },
    "colab": {
      "name": "Numpy_Task2.ipynb",
      "provenance": []
    }
  },
  "cells": [
    {
      "cell_type": "markdown",
      "metadata": {
        "id": "DQwLmJBBQqmX"
      },
      "source": [
        "# CrunchieMunchies\n",
        "\n",
        "You work in marketing for a food company <b>myCorps</b>, which is developing a new kind of tasty, wholesome cereal called <b>CrunchieMunchies</b>. \n",
        "\n",
        "You want to demonstrate to consumers how healthy your cereal is in comparison to other leading brands, so you’ve dug up nutritional data on several different competitors.\n",
        "\n",
        "Your task is to use <em>NumPy statistical calculations</em> to analyze this data and prove that your <b>CrunchieMunchies</b> is the healthiest choice for consumers.\n",
        "\n",
        "\n",
        "\n",
        "\n"
      ]
    },
    {
      "cell_type": "markdown",
      "metadata": {
        "id": "i5Adn7CjQqmg"
      },
      "source": [
        "# Task STEPS\n"
      ]
    },
    {
      "cell_type": "markdown",
      "metadata": {
        "id": "jrBzDfFtQqmg"
      },
      "source": [
        "1.First, import numpy."
      ]
    },
    {
      "cell_type": "code",
      "metadata": {
        "id": "Q1HqW2waQqmh"
      },
      "source": [
        "# your code goes here\n",
        "import numpy as np\n"
      ],
      "execution_count": null,
      "outputs": []
    },
    {
      "cell_type": "markdown",
      "metadata": {
        "id": "Ycnuy_cNQqmh"
      },
      "source": [
        "2.Look over the <b><em>cereal.csv</em></b> file. This file contains the reported calorie amounts for different cereal brands. Load the data from the file and save it as <b><em>calorie_stats.</em></b>\n",
        "\n"
      ]
    },
    {
      "cell_type": "code",
      "metadata": {
        "id": "-hcPH0doQqmi"
      },
      "source": [
        "# your code goes here\n",
        "calorie_stats = np.genfromtxt('/content/drive/MyDrive/PIAIC/piaic_q2_Assignments/NumpyTask2/cereal.csv',delimiter=',')\n"
      ],
      "execution_count": null,
      "outputs": []
    },
    {
      "cell_type": "markdown",
      "metadata": {
        "id": "uB98nwq1Qqmi"
      },
      "source": [
        "3.There are <em>60 calories per serving of CrunchieMunchies</em>. How much <b>higher</b> is the <b>average calorie count</b> of your competition?\n",
        "\n",
        "Save the answer to the variable <b>average_calories</b> and print the variable to the terminal to see the answer.\n"
      ]
    },
    {
      "cell_type": "code",
      "metadata": {
        "id": "XyCCbwz0Qqmi",
        "colab": {
          "base_uri": "https://localhost:8080/"
        },
        "outputId": "04ad0995-27e8-4ecb-824e-4b351f5cf7a4"
      },
      "source": [
        "# your code goes here\n",
        "calorie_stats\n"
      ],
      "execution_count": null,
      "outputs": [
        {
          "output_type": "execute_result",
          "data": {
            "text/plain": [
              "array([ 70., 120.,  70.,  50., 110., 110., 110., 130.,  90.,  90., 120.,\n",
              "       110., 120., 110., 110., 110., 100., 110., 110., 110., 100., 110.,\n",
              "       100., 100., 110., 110., 100., 120., 120., 110., 100., 110., 100.,\n",
              "       110., 120., 120., 110., 110., 110., 140., 110., 100., 110., 100.,\n",
              "       150., 150., 160., 100., 120., 140.,  90., 130., 120., 100.,  50.,\n",
              "        50., 100., 100., 120., 100.,  90., 110., 110.,  80.,  90.,  90.,\n",
              "       110., 110.,  90., 110., 140., 100., 110., 110., 100., 100., 110.])"
            ]
          },
          "metadata": {
            "tags": []
          },
          "execution_count": 11
        }
      ]
    },
    {
      "cell_type": "code",
      "metadata": {
        "id": "Q5vmWbH0WIKx"
      },
      "source": [
        "average_calories = calorie_stats[calorie_stats > 60]"
      ],
      "execution_count": null,
      "outputs": []
    },
    {
      "cell_type": "code",
      "metadata": {
        "id": "HT-2YFjeWvIK",
        "colab": {
          "base_uri": "https://localhost:8080/"
        },
        "outputId": "1d93cda4-8257-40b1-ce6f-f0f9c982cc2a"
      },
      "source": [
        "average_calories"
      ],
      "execution_count": null,
      "outputs": [
        {
          "output_type": "execute_result",
          "data": {
            "text/plain": [
              "array([ 70., 120.,  70., 110., 110., 110., 130.,  90.,  90., 120., 110.,\n",
              "       120., 110., 110., 110., 100., 110., 110., 110., 100., 110., 100.,\n",
              "       100., 110., 110., 100., 120., 120., 110., 100., 110., 100., 110.,\n",
              "       120., 120., 110., 110., 110., 140., 110., 100., 110., 100., 150.,\n",
              "       150., 160., 100., 120., 140.,  90., 130., 120., 100., 100., 100.,\n",
              "       120., 100.,  90., 110., 110.,  80.,  90.,  90., 110., 110.,  90.,\n",
              "       110., 140., 100., 110., 110., 100., 100., 110.])"
            ]
          },
          "metadata": {
            "tags": []
          },
          "execution_count": 7
        }
      ]
    },
    {
      "cell_type": "markdown",
      "metadata": {
        "id": "VNcepUcXQqmj"
      },
      "source": [
        "4.Does the <b>average calorie count</b> adequately reflect the distribution of the dataset? Let’s sort the data and see.\n",
        "\n",
        "<b><em>Sort</em></b> the data and save the result to the variable <b>calorie_stats_sorted</b>. Print the sorted data to the terminal.\n"
      ]
    },
    {
      "cell_type": "code",
      "metadata": {
        "id": "h7rsneC8Qqmj"
      },
      "source": [
        "# your code goes here\n",
        "calorie_stats_sorted = np.sort(calorie_stats)\n"
      ],
      "execution_count": null,
      "outputs": []
    },
    {
      "cell_type": "code",
      "metadata": {
        "colab": {
          "base_uri": "https://localhost:8080/"
        },
        "id": "4Lj2LLb0SpL4",
        "outputId": "e433be53-6f03-468e-b49a-1bbc4f7a90c4"
      },
      "source": [
        "calorie_stats_sorted"
      ],
      "execution_count": null,
      "outputs": [
        {
          "output_type": "execute_result",
          "data": {
            "text/plain": [
              "array([ 50.,  50.,  50.,  70.,  70.,  80.,  90.,  90.,  90.,  90.,  90.,\n",
              "        90.,  90., 100., 100., 100., 100., 100., 100., 100., 100., 100.,\n",
              "       100., 100., 100., 100., 100., 100., 100., 100., 110., 110., 110.,\n",
              "       110., 110., 110., 110., 110., 110., 110., 110., 110., 110., 110.,\n",
              "       110., 110., 110., 110., 110., 110., 110., 110., 110., 110., 110.,\n",
              "       110., 110., 110., 110., 120., 120., 120., 120., 120., 120., 120.,\n",
              "       120., 120., 120., 130., 130., 140., 140., 140., 150., 150., 160.])"
            ]
          },
          "metadata": {
            "tags": []
          },
          "execution_count": 9
        }
      ]
    },
    {
      "cell_type": "markdown",
      "metadata": {
        "id": "oRD3PBV4Qqmj"
      },
      "source": [
        "5.Do you see what I’m seeing? Looks like <b><em>the majority of the cereals are higher than the mean</em></b>. Let’s see if the <b>median</b> is a better representative of the dataset.\n",
        "\n",
        "Calculate the median of the dataset and save your answer to <b><em >median_calories</em></b>. Print the median so you can see how it compares to the mean."
      ]
    },
    {
      "cell_type": "code",
      "metadata": {
        "id": "1b0RJE8aQqmk",
        "colab": {
          "base_uri": "https://localhost:8080/"
        },
        "outputId": "f1441cc5-e347-449a-bfb8-e5a651a0ee3b"
      },
      "source": [
        "# your code goes here\n",
        "median_calories = np.median(calorie_stats_sorted)\n",
        "median_calories"
      ],
      "execution_count": null,
      "outputs": [
        {
          "output_type": "execute_result",
          "data": {
            "text/plain": [
              "110.0"
            ]
          },
          "metadata": {
            "tags": []
          },
          "execution_count": 10
        }
      ]
    },
    {
      "cell_type": "markdown",
      "metadata": {
        "id": "srYIKovpQqmk"
      },
      "source": [
        "6.While the median demonstrates that <b><em><q>at least half of our values are over 100 calories</q></em></b>, it would be more impressive to show that a significant portion of the competition has a higher calorie count that CrunchieMunchies.\n",
        "\n",
        "<b>Calculate different percentiles</b> and print them to the terminal until you find the lowest percentile that is greater than 60 calories. Save this value to the variable <b>nth_percentile</b>.\n"
      ]
    },
    {
      "cell_type": "code",
      "metadata": {
        "id": "Y03ZBdKVQqmk",
        "colab": {
          "base_uri": "https://localhost:8080/"
        },
        "outputId": "9c43140e-9333-4fdb-f483-990047135132"
      },
      "source": [
        "np.percentile(calorie_stats_sorted,[10])"
      ],
      "execution_count": null,
      "outputs": [
        {
          "output_type": "execute_result",
          "data": {
            "text/plain": [
              "array([90.])"
            ]
          },
          "metadata": {
            "tags": []
          },
          "execution_count": 18
        }
      ]
    },
    {
      "cell_type": "markdown",
      "metadata": {
        "id": "lmQhz8R2Qqmk"
      },
      "source": [
        "7.While the percentile shows us that<b><em><q>the majority of the competition has a much higher calorie count</q></em></b>, it’s an awkward concept to use in marketing materials.\n",
        "\n",
        "Instead, let’s calculate the percentage of cereals that <b><em><q>have more than 60 calories per serving</q></em></b>. Save your answer to the variable <b><em>more_calories</em></b> and print it to the terminal"
      ]
    },
    {
      "cell_type": "code",
      "metadata": {
        "id": "pxIfB1ymQqml"
      },
      "source": [
        "# your code goes here\n",
        "\n"
      ],
      "execution_count": null,
      "outputs": []
    },
    {
      "cell_type": "markdown",
      "metadata": {
        "id": "KhvaMO15Qqml"
      },
      "source": [
        "8.Wow! That’s a really high percentage. That’s going to be very useful when we promote CrunchieMunchies. But one question is, <b><em>how much variation exists in the dataset? </b></em></q>Can we make the generalization that most cereals have around 100 calories or is the spread even greater?\n",
        "\n",
        "Calculate the amount of variation by finding the <b><em>standard deviation</em</b> Save your answer to <b><em>calorie_std</em></b> and print to the terminal. How can we incorporate this value into our analysis?"
      ]
    },
    {
      "cell_type": "code",
      "metadata": {
        "id": "Swbd87XsQqml"
      },
      "source": [
        "# your code goes here\n",
        "\n"
      ],
      "execution_count": null,
      "outputs": []
    },
    {
      "cell_type": "markdown",
      "metadata": {
        "id": "ohbC95YdQqml"
      },
      "source": [
        "9.Write a short paragraph that sums up your findings and how you think this data could be used to \n",
        "<b>myCorp’s</b> advantage when marketing CrunchieMunchies.\n"
      ]
    },
    {
      "cell_type": "code",
      "metadata": {
        "id": "kclXUf-PQqml"
      },
      "source": [
        ""
      ],
      "execution_count": null,
      "outputs": []
    }
  ]
}